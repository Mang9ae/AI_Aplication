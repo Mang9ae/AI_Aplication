{
  "nbformat": 4,
  "nbformat_minor": 0,
  "metadata": {
    "colab": {
      "provenance": [],
      "gpuType": "T4",
      "authorship_tag": "ABX9TyNObGbguHqFdC0minY3gvYW",
      "include_colab_link": true
    },
    "kernelspec": {
      "name": "python3",
      "display_name": "Python 3"
    },
    "language_info": {
      "name": "python"
    },
    "accelerator": "GPU"
  },
  "cells": [
    {
      "cell_type": "markdown",
      "metadata": {
        "id": "view-in-github",
        "colab_type": "text"
      },
      "source": [
        "<a href=\"https://colab.research.google.com/github/Mang9ae/AI_Aplication/blob/main/Work1.ipynb\" target=\"_parent\"><img src=\"https://colab.research.google.com/assets/colab-badge.svg\" alt=\"Open In Colab\"/></a>"
      ]
    },
    {
      "cell_type": "code",
      "execution_count": 1,
      "metadata": {
        "id": "Z_tq8u2u2b6V"
      },
      "outputs": [],
      "source": [
        "# 곱셈 계층 클래스 정의\n",
        "class MulLayer:\n",
        "  def __init__(self):\n",
        "    self.x = None\n",
        "    self.y = None\n",
        "\n",
        "  def forward(self, x, y):\n",
        "    self.x = x\n",
        "    self.y = y\n",
        "    out = x * y\n",
        "    return out\n",
        "\n",
        "  def backward(self, dout):\n",
        "    dx = dout * self.y\n",
        "    dy = dout * self.x\n",
        "    return dx, dy\n",
        "\n",
        "# 덧셈 계층 클래스 정의\n",
        "class AddLayer:\n",
        "  def __init__(self):\n",
        "    pass\n",
        "\n",
        "  def forward(self, x, y):\n",
        "    out = x + y\n",
        "    return out\n",
        "\n",
        "  def backward(self, dout):\n",
        "    dx = dout * 1\n",
        "    dy = dout * 1\n",
        "    return dx, dy"
      ]
    },
    {
      "cell_type": "code",
      "source": [
        "# 변수 설정\n",
        "\n",
        "# 사과 가격\n",
        "apple = 100\n",
        "\n",
        "# 사과 개수\n",
        "apple_num = 2\n",
        "\n",
        "# 귤 가격\n",
        "mandarin = 250\n",
        "\n",
        "# 귤 개수\n",
        "mandarin_num = 4\n",
        "\n",
        "# 세금 비율\n",
        "tax = 1.1"
      ],
      "metadata": {
        "id": "fLF_KbX1_kF0"
      },
      "execution_count": 11,
      "outputs": []
    },
    {
      "cell_type": "code",
      "source": [
        "# 계층 구성\n",
        "mul_apple_layer = MulLayer()\n",
        "mul_mandarin_layer = MulLayer()\n",
        "add_apple_mandarin_layer = AddLayer()\n",
        "mul_tax_layer = MulLayer()"
      ],
      "metadata": {
        "id": "5Yz9jla6JsW0"
      },
      "execution_count": 12,
      "outputs": []
    },
    {
      "cell_type": "code",
      "source": [
        "# 순전파 계산\n",
        "\n",
        "# 사과의 총 가격 계산 및 저장\n",
        "apple_total = mul_apple_layer.forward(apple, apple_num)\n",
        "\n",
        "# 귤의 총 가격 계산 및 저장\n",
        "mandarin_total = mul_mandarin_layer.forward(mandarin, mandarin_num)\n",
        "\n",
        "# 사과와 귤의 총 가격 계산 및 저장\n",
        "all_total = add_apple_mandarin_layer.forward(apple_total, mandarin_total)\n",
        "\n",
        "# 소비세를 포함한 최종 가격 계산 및 저장\n",
        "price = mul_tax_layer.forward(all_total, tax)"
      ],
      "metadata": {
        "id": "v986DL3vJu7F"
      },
      "execution_count": 13,
      "outputs": []
    },
    {
      "cell_type": "code",
      "source": [
        "# 역전파 계산\n",
        "\n",
        "# 최종 지불 금액에 대한 미분 값(초기 값 1)\n",
        "dprice = 1\n",
        "\n",
        "# 사과와 귤의 총 가격 미분 계산 및 저장, 소비세율에 대한 미분 계산 및 저장\n",
        "dall_total, dtax = mul_tax_layer.backward(dprice)\n",
        "\n",
        "# 사과의 총 가격 미분 계산 및 저장, 귤의 총 가격 미분 계산 및 저장\n",
        "dapple_total, dmandarin_total = add_apple_mandarin_layer.backward(dall_total)\n",
        "\n",
        "# 사과 가격 미분 계산 및 저장, 사과 개수 미분 계산 및 저장\n",
        "dapple_total, dapple_num = mul_apple_layer.backward(dapple_total)\n",
        "\n",
        "# 귤 가격 미분 계산 및 저장, 귤 개수 미분 계산 및 저장\n",
        "dmandarin_total, dmandarin_num = mul_mandarin_layer.backward(dmandarin_total)"
      ],
      "metadata": {
        "id": "owjj4HJwMVqy"
      },
      "execution_count": 14,
      "outputs": []
    },
    {
      "cell_type": "code",
      "source": [
        "# 결과 출력\n",
        "print(\"최종 지불 가격 : \", price)\n",
        "print(\"사과 가격에 대한 미분(기울기) : \", dapple_total)\n",
        "print(\"사과 개수에 대한 미분(기울기) : \", dapple_num)\n",
        "print(\"귤 가격에 대한 미분(기울기) : \", dmandarin_total)\n",
        "print(\"귤 개수에 대한 미분(기울기) : \", dmandarin_num)\n",
        "print(\"소비세에 대한 미분(기울기) : \", dtax)"
      ],
      "metadata": {
        "colab": {
          "base_uri": "https://localhost:8080/"
        },
        "id": "ccBF2VNEO4aJ",
        "outputId": "bba96f94-29ed-4b5f-f20b-5aa3310a7db7"
      },
      "execution_count": 15,
      "outputs": [
        {
          "output_type": "stream",
          "name": "stdout",
          "text": [
            "최종 지불 가격 :  1320.0\n",
            "사과 가격에 대한 미분(기울기) :  2.2\n",
            "사과 개수에 대한 미분(기울기) :  110.00000000000001\n",
            "귤 가격에 대한 미분(기울기) :  4.4\n",
            "귤 개수에 대한 미분(기울기) :  275.0\n",
            "소비세에 대한 미분(기울기) :  1200\n"
          ]
        }
      ]
    }
  ]
}