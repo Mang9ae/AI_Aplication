{
  "nbformat": 4,
  "nbformat_minor": 0,
  "metadata": {
    "colab": {
      "provenance": [],
      "gpuType": "T4",
      "authorship_tag": "ABX9TyN1UPiXRdwLVnJC3+5b0L3g",
      "include_colab_link": true
    },
    "kernelspec": {
      "name": "python3",
      "display_name": "Python 3"
    },
    "language_info": {
      "name": "python"
    },
    "accelerator": "GPU"
  },
  "cells": [
    {
      "cell_type": "markdown",
      "metadata": {
        "id": "view-in-github",
        "colab_type": "text"
      },
      "source": [
        "<a href=\"https://colab.research.google.com/github/Mang9ae/AI_Aplication/blob/main/3%EC%A3%BC%EC%B0%A8.ipynb\" target=\"_parent\"><img src=\"https://colab.research.google.com/assets/colab-badge.svg\" alt=\"Open In Colab\"/></a>"
      ]
    },
    {
      "cell_type": "code",
      "execution_count": 7,
      "metadata": {
        "colab": {
          "base_uri": "https://localhost:8080/"
        },
        "id": "ERQnnoecoG-g",
        "outputId": "dc9c0fd3-b96e-4304-91e0-6f50dc9ecde4"
      },
      "outputs": [
        {
          "output_type": "stream",
          "name": "stdout",
          "text": [
            "Epoch 1: Weights=[0.1 0.1], Bias=0.0, Error=1\n",
            "Epoch 2: Weights=[0.2 0.1], Bias=-0.1, Error=1\n",
            "Epoch 3: Weights=[0.2 0.1], Bias=-0.20000000000000004, Error=1\n",
            "Epoch 4: Weights=[0.2 0.1], Bias=-0.20000000000000004, Error=0\n",
            "Epoch 5: Weights=[0.2 0.1], Bias=-0.20000000000000004, Error=0\n",
            "Epoch 6: Weights=[0.2 0.1], Bias=-0.20000000000000004, Error=0\n",
            "Epoch 7: Weights=[0.2 0.1], Bias=-0.20000000000000004, Error=0\n",
            "Epoch 8: Weights=[0.2 0.1], Bias=-0.20000000000000004, Error=0\n",
            "Epoch 9: Weights=[0.2 0.1], Bias=-0.20000000000000004, Error=0\n",
            "Epoch 10: Weights=[0.2 0.1], Bias=-0.20000000000000004, Error=0\n",
            "|n[학습결과]\n",
            "Weights=[0.2 0.1], Bias=-0.20000000000000004\n",
            "|n[게이트 테스트]\n",
            "입력: {inputs}, 출력: {perceptron.predict(inputs)}\n",
            "입력: {inputs}, 출력: {perceptron.predict(inputs)}\n",
            "입력: {inputs}, 출력: {perceptron.predict(inputs)}\n",
            "입력: {inputs}, 출력: {perceptron.predict(inputs)}\n"
          ]
        }
      ],
      "source": [
        "import numpy as np\n",
        "\n",
        "#계단 활성화 함수\n",
        "def step_function(x) :\n",
        "    return 1 if x >= 0 else 0\n",
        "\n",
        "#퍼셉트론 모델\n",
        "class Perceptron:\n",
        "  def __init__(self, input_size, lr=0.1, epochs=10):\n",
        "    self.weights = np.zeros(input_size)\n",
        "    self.bias = 0\n",
        "    self.lr = lr\n",
        "    self.epochs = epochs\n",
        "\n",
        "  def predict(self, x):\n",
        "    linear_output = np.dot(x, self.weights) + self.bias\n",
        "    return step_function(linear_output)\n",
        "\n",
        "  def train(self, X, y):\n",
        "    for epoch in range(self.epochs):\n",
        "      for i in range(len(X)):\n",
        "        y_pred = self.predict(X[i])\n",
        "        error = y[i] - y_pred\n",
        "        self.weights += self.lr * error * X[i]\n",
        "        self.bias += self.lr * error\n",
        "      print(f\"Epoch {epoch+1}: Weights={self.weights}, Bias={self.bias}, Error={error}\")\n",
        "\n",
        "#And gate 입력 및 출력\n",
        "X = np.array([[0, 0], [0, 1], [1, 0], [1, 1]])\n",
        "y = np.array([0, 0, 0, 1])\n",
        "\n",
        "#퍼셉트론 모델 학습\n",
        "perceptron = Perceptron(input_size=2, lr=0.1, epochs=10)\n",
        "perceptron.train(X, y)\n",
        "\n",
        "print(\"|n[학습결과]\")\n",
        "print(f\"Weights={perceptron.weights}, Bias={perceptron.bias}\")\n",
        "\n",
        "#결과 확인\n",
        "print(\"|n[게이트 테스트]\")\n",
        "for input in X:\n",
        "  print(\"입력: {inputs}, 출력: {perceptron.predict(inputs)}\")"
      ]
    },
    {
      "cell_type": "code",
      "source": [
        "X = np.array([[0, 0], [0, 1], [1, 0], [1, 1]])\n",
        "#NAND 정답\n",
        "y_nand = np.array([1, 1, 1, 0])\n",
        "#AND 정답\n",
        "y_and = np.array([0, 0, 0, 1])\n",
        "#OR 정답\n",
        "y_or = np.array([0, 1, 1, 1])\n",
        "\n",
        "#NAND\n",
        "perceptron_nand = Perceptron(input_size=2, lr=0.1, epochs=10)\n",
        "perceptron_nand.train(X, y_nand)\n",
        "weights_nand = perceptron_nand.weights\n",
        "bias_nand = perceptron_nand.bias\n",
        "\n",
        "#AND\n",
        "perceptron_and = Perceptron(input_size=2, lr=0.1, epochs=10)\n",
        "perceptron_and.train(X, y_and)\n",
        "weights_and = perceptron_and.weights\n",
        "bias_and = perceptron_and.bias\n",
        "\n",
        "#OR\n",
        "perceptron_or = Perceptron(input_size=2, lr=0.1, epochs=10)\n",
        "perceptron_or.train(X, y_or)\n",
        "weights_or = perceptron_or.weights\n",
        "bias_or = perceptron_or.bias\n",
        "\n",
        "#XOR\n",
        "def XOR(x):\n",
        "  nand_output = step_function(np.dot(x, weights_nand) + bias_nand)\n",
        "  or_output = step_function(np.dot(x, weights_or) + bias_or)\n",
        "  and_input = np.array([nand_output, or_output])\n",
        "  #print(f\"입력: {x}, nand_output: {nand_output}, and_output: {and_input}, or_input: {and_input})\n",
        "  xor_output = step_function(np.dot(and_input, weights_and) + bias_and)\n",
        "  return xor_output\n",
        "\n",
        "#결과 출력\n",
        "for input in X:\n",
        "  print(f\"입력: {input}, 출력: {XOR(input)}\")"
      ],
      "metadata": {
        "colab": {
          "base_uri": "https://localhost:8080/"
        },
        "id": "WjwoasHezGvT",
        "outputId": "517e6fc8-1567-4d47-d672-8fb82993f5a2"
      },
      "execution_count": 10,
      "outputs": [
        {
          "output_type": "stream",
          "name": "stdout",
          "text": [
            "Epoch 1: Weights=[-0.1 -0.1], Bias=-0.1, Error=-1\n",
            "Epoch 2: Weights=[-0.2 -0.1], Bias=0.0, Error=-1\n",
            "Epoch 3: Weights=[-0.2 -0.1], Bias=0.1, Error=-1\n",
            "Epoch 4: Weights=[-0.2 -0.2], Bias=0.1, Error=-1\n",
            "Epoch 5: Weights=[-0.2 -0.1], Bias=0.2, Error=0\n",
            "Epoch 6: Weights=[-0.2 -0.1], Bias=0.2, Error=0\n",
            "Epoch 7: Weights=[-0.2 -0.1], Bias=0.2, Error=0\n",
            "Epoch 8: Weights=[-0.2 -0.1], Bias=0.2, Error=0\n",
            "Epoch 9: Weights=[-0.2 -0.1], Bias=0.2, Error=0\n",
            "Epoch 10: Weights=[-0.2 -0.1], Bias=0.2, Error=0\n",
            "Epoch 1: Weights=[0.1 0.1], Bias=0.0, Error=1\n",
            "Epoch 2: Weights=[0.2 0.1], Bias=-0.1, Error=1\n",
            "Epoch 3: Weights=[0.2 0.1], Bias=-0.20000000000000004, Error=1\n",
            "Epoch 4: Weights=[0.2 0.1], Bias=-0.20000000000000004, Error=0\n",
            "Epoch 5: Weights=[0.2 0.1], Bias=-0.20000000000000004, Error=0\n",
            "Epoch 6: Weights=[0.2 0.1], Bias=-0.20000000000000004, Error=0\n",
            "Epoch 7: Weights=[0.2 0.1], Bias=-0.20000000000000004, Error=0\n",
            "Epoch 8: Weights=[0.2 0.1], Bias=-0.20000000000000004, Error=0\n",
            "Epoch 9: Weights=[0.2 0.1], Bias=-0.20000000000000004, Error=0\n",
            "Epoch 10: Weights=[0.2 0.1], Bias=-0.20000000000000004, Error=0\n",
            "Epoch 1: Weights=[0.  0.1], Bias=0.0, Error=0\n",
            "Epoch 2: Weights=[0.1 0.1], Bias=0.0, Error=0\n",
            "Epoch 3: Weights=[0.1 0.1], Bias=-0.1, Error=0\n",
            "Epoch 4: Weights=[0.1 0.1], Bias=-0.1, Error=0\n",
            "Epoch 5: Weights=[0.1 0.1], Bias=-0.1, Error=0\n",
            "Epoch 6: Weights=[0.1 0.1], Bias=-0.1, Error=0\n",
            "Epoch 7: Weights=[0.1 0.1], Bias=-0.1, Error=0\n",
            "Epoch 8: Weights=[0.1 0.1], Bias=-0.1, Error=0\n",
            "Epoch 9: Weights=[0.1 0.1], Bias=-0.1, Error=0\n",
            "Epoch 10: Weights=[0.1 0.1], Bias=-0.1, Error=0\n",
            "입력: [0 0], 출력: 0\n",
            "입력: [0 1], 출력: 1\n",
            "입력: [1 0], 출력: 1\n",
            "입력: [1 1], 출력: 0\n"
          ]
        }
      ]
    }
  ]
}